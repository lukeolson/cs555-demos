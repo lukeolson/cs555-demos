{
 "cells": [
  {
   "cell_type": "code",
   "execution_count": null,
   "id": "e4be7317-7cf0-440a-858a-08791cc3e228",
   "metadata": {},
   "outputs": [],
   "source": [
    "import numpy as np\n",
    "import scipy as sp\n",
    "import matplotlib.pyplot as plt"
   ]
  },
  {
   "cell_type": "markdown",
   "id": "fe20a089-b748-4782-91e9-87482986e2ed",
   "metadata": {},
   "source": [
    "Consider the following problem:\n",
    "\\begin{align}\n",
    "-\\partial_x(\\partial_x u_x) & = f(x)\\quad\\text{in $[0,1]$}\\\\\n",
    "u(0) = \\alpha\\\\\n",
    "u'(1) = \\beta\n",
    "\\end{align}"
   ]
  },
  {
   "cell_type": "code",
   "execution_count": null,
   "id": "806f10e6-5e4d-4642-946f-26c73d856b2a",
   "metadata": {},
   "outputs": [],
   "source": [
    "def f(x):\n",
    "    u = np.exp(-100 * (x - 0.25)**2)\n",
    "    #u = np.ones_like(x)\n",
    "    return u\n",
    "\n",
    "alpha = 0.25\n",
    "beta = 0.0\n",
    "\n",
    "class Mesh:\n",
    "    def __init__(self, nel):\n",
    "        self.nel = nel\n",
    "        x = np.linspace(0, 1, nel+1)\n",
    "        self.x = x\n",
    "        self.h = np.diff(x)\n",
    "        self.n = len(x)\n",
    "\n",
    "def gnorm(mesh, u):\n",
    "    return np.sqrt(np.max(mesh.h)) * np.linalg.norm(u)"
   ]
  },
  {
   "cell_type": "code",
   "execution_count": null,
   "id": "5d013f85-2a18-4f4c-899d-66c6bad9b752",
   "metadata": {},
   "outputs": [],
   "source": [
    "mesh = Mesh(4)\n",
    "print(mesh.x)\n",
    "print(mesh.h)"
   ]
  },
  {
   "cell_type": "code",
   "execution_count": null,
   "id": "f4d9206b-433f-491e-815d-bba00f4655c4",
   "metadata": {},
   "outputs": [],
   "source": [
    "def assemble(mesh, f):\n",
    "    n = mesh.n\n",
    "    nel = mesh.nel\n",
    "    h = mesh.h\n",
    "    x = mesh.x\n",
    "\n",
    "    A = np.zeros((n, n))    # should be tridiag! should be sparse\n",
    "    rhs = np.zeros(n)\n",
    "    for k in range(0, nel):\n",
    "        hk = h[k]\n",
    "        Ak = np.array([[1/hk, -1/hk],\n",
    "                       [-1/hk, 1/hk]])\n",
    "        t = 0.5\n",
    "        fk = np.array([f(x[k] + hk * t)*(hk/2),\n",
    "                       f(x[k] + hk * t)*(hk/2)])\n",
    "        \n",
    "        if k == 0:\n",
    "            Ak[:,0] = 0\n",
    "            Ak[0,:] = 0\n",
    "            fk[0] = 0\n",
    "            \n",
    "        A[k:k+2, k:k+2] += Ak\n",
    "        rhs[k:k+2] += fk\n",
    "    return A, rhs\n",
    "    \n",
    "mesh = Mesh(3)\n",
    "def f(x):\n",
    "    return np.ones_like(x)\n",
    "A, rhs = assemble(mesh, f)\n",
    "h = mesh.h[0]\n",
    "print(h*A)\n",
    "print((2/h)*rhs)"
   ]
  },
  {
   "cell_type": "code",
   "execution_count": null,
   "id": "7926f57e-5ed2-435e-b9b9-20cb544ef9f0",
   "metadata": {},
   "outputs": [],
   "source": []
  }
 ],
 "metadata": {
  "kernelspec": {
   "display_name": "Python 3 (ipykernel)",
   "language": "python",
   "name": "python3"
  },
  "language_info": {
   "codemirror_mode": {
    "name": "ipython",
    "version": 3
   },
   "file_extension": ".py",
   "mimetype": "text/x-python",
   "name": "python",
   "nbconvert_exporter": "python",
   "pygments_lexer": "ipython3",
   "version": "3.12.9"
  }
 },
 "nbformat": 4,
 "nbformat_minor": 5
}
